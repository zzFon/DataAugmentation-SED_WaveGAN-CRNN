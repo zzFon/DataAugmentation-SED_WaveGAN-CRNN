export CUDA_VISIBLE_DEVICES="0"
python train_wavegan.py train ./train1 --data_dir ./22 --data_first_slice --data_pad_end --data_fast_wav
	
cd	C:\Users\43476\Desktop\2\gan\wavegan-master